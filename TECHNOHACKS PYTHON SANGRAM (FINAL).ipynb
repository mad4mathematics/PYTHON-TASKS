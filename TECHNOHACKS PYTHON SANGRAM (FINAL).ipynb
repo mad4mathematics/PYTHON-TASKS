{
 "cells": [
  {
   "cell_type": "markdown",
   "id": "2aae6d76",
   "metadata": {},
   "source": [
    "# Author - SANGRAM MEHER\n",
    "# Technohacks Edutech (Batch - 10)\n",
    "# Python Developer Internship"
   ]
  },
  {
   "cell_type": "code",
   "execution_count": null,
   "id": "a7e94b6e",
   "metadata": {},
   "outputs": [],
   "source": []
  },
  {
   "cell_type": "markdown",
   "id": "bb0a208e",
   "metadata": {},
   "source": [
    "# Task 1 : Calculator\n",
    "# Create a basic calculator that can performbasic arithmetic operations such as addition, subtraction, multiplication, and division.using functions\n"
   ]
  },
  {
   "cell_type": "code",
   "execution_count": null,
   "id": "5a8e5ff0",
   "metadata": {},
   "outputs": [],
   "source": [
    "import tkinter as tk\n",
    "import tkinter.messagebox\n",
    "\n",
    "def create_button(master, text, command, row, column, padx=10, pady=10, width=3):\n",
    "    return tk.Button(master=master, text=text, padx=padx, pady=pady, width=width, command=command).grid(row=row, column=column)\n",
    "\n",
    "def myclick(char):\n",
    "    if char == 'DEL':\n",
    "        current_text = entry.get()\n",
    "        entry.delete(len(current_text) - 1, tk.END)\n",
    "    else:\n",
    "        entry.insert(tk.END, char)\n",
    "\n",
    "def equal():\n",
    "    try:\n",
    "        expression = entry.get()\n",
    "        result = eval(expression)\n",
    "        entry.delete(0, tk.END)\n",
    "        entry.insert(0, round(result, 12))\n",
    "    except Exception as e:\n",
    "        tkinter.messagebox.showinfo(\"Error\", f\"Error: {e}\")\n",
    "\n",
    "def clear():\n",
    "    entry.delete(0, tk.END)\n",
    "\n",
    "def add_bracket():\n",
    "    myclick('(')\n",
    "\n",
    "def add_decimal():\n",
    "    myclick('.')\n",
    "\n",
    "window = tk.Tk()\n",
    "window.title('MY_CALC')\n",
    "\n",
    "frame = tk.Frame(master=window, bg=\"purple\", padx=10, pady=10)\n",
    "frame.pack()\n",
    "\n",
    "entry = tk.Entry(master=frame, relief=tk.SUNKEN, borderwidth=3, width=30)\n",
    "entry.grid(row=0, column=0, columnspan=5, ipady=10, pady=10)\n",
    "\n",
    "buttons = [\n",
    "    ('9', lambda: myclick(9)), ('8', lambda: myclick(8)), ('7', lambda: myclick(7)), ('+', lambda: myclick('+')), ('-', lambda: myclick('-')),\n",
    "    ('6', lambda: myclick(6)), ('5', lambda: myclick(5)), ('4', lambda: myclick(4)), ('*', lambda: myclick('*')), ('/', lambda: myclick('/')),\n",
    "    ('3', lambda: myclick(3)), ('2', lambda: myclick(2)), ('1', lambda: myclick(1)), ('(', add_bracket), (')', lambda: myclick(')')),\n",
    "    ('C', clear), ('DEL', lambda: myclick('DEL')), ('0', lambda: myclick(0)), ('.', add_decimal), ('=', equal)\n",
    "]\n",
    "\n",
    "grid_order = [\n",
    "    (1, 0), (1, 1), (1, 2), (1, 3), (1, 4),\n",
    "    (2, 0), (2, 1), (2, 2), (2, 3), (2, 4),\n",
    "    (3, 0), (3, 1), (3, 2), (3, 3), (3, 4),\n",
    "    (4, 0), (4, 1), (4, 2), (4, 3), (4, 4),\n",
    "    (5, 0), (5, 1), (5, 2), (5, 3), (5, 4)\n",
    "]\n",
    "\n",
    "for (row, col), (label, cmd) in zip(grid_order, buttons):\n",
    "    create_button(frame, label, cmd, row, col)\n",
    "\n",
    "window.mainloop()"
   ]
  },
  {
   "cell_type": "code",
   "execution_count": null,
   "id": "26a95a29",
   "metadata": {},
   "outputs": [],
   "source": []
  },
  {
   "cell_type": "markdown",
   "id": "0a0ad431",
   "metadata": {},
   "source": [
    "# Task 5 : Temperature converter\n",
    "# Create a program that allows the user to convert temperatures between Fahrenheit and Celsius."
   ]
  },
  {
   "cell_type": "code",
   "execution_count": 1,
   "id": "7440e709",
   "metadata": {},
   "outputs": [
    {
     "name": "stdout",
     "output_type": "stream",
     "text": [
      "Choose an option:\n",
      "1. Convert Fahrenheit to Celsius\n",
      "2. Convert Celsius to Fahrenheit\n",
      "3. Quit\n",
      "Enter your choice (1/2/3): 1\n",
      "Enter temperature in Fahrenheit: 212\n",
      "212.0°F is 100.0°C\n",
      "\n",
      "Choose an option:\n",
      "1. Convert Fahrenheit to Celsius\n",
      "2. Convert Celsius to Fahrenheit\n",
      "3. Quit\n",
      "Enter your choice (1/2/3): 2\n",
      "Enter temperature in Celsius: -40\n",
      "-40.0°C is -40.0°F\n",
      "\n",
      "Choose an option:\n",
      "1. Convert Fahrenheit to Celsius\n",
      "2. Convert Celsius to Fahrenheit\n",
      "3. Quit\n",
      "Enter your choice (1/2/3): 3\n",
      "Thank You!\n"
     ]
    }
   ],
   "source": [
    "def f_to_c(f):\n",
    "    c = (f - 32) * 5/9\n",
    "    return c\n",
    "\n",
    "def c_to_f(c):\n",
    "    f = (c * 9/5) + 32\n",
    "    return f\n",
    "\n",
    "while True:\n",
    "    print(\"Choose an option:\")\n",
    "    print(\"1. Convert Fahrenheit to Celsius\")\n",
    "    print(\"2. Convert Celsius to Fahrenheit\")\n",
    "    print(\"3. Quit\")\n",
    "\n",
    "    choice = input(\"Enter your choice (1/2/3): \")\n",
    "\n",
    "    if choice == '1':\n",
    "        f = float(input(\"Enter temperature in Fahrenheit: \"))\n",
    "        c = f_to_c(f)\n",
    "        print(f\"{f}°F is {c}°C\\n\")\n",
    "        \n",
    "    elif choice == '2':\n",
    "        c = float(input(\"Enter temperature in Celsius: \"))\n",
    "        f = c_to_f(c)\n",
    "        print(f\"{c}°C is {f}°F\\n\")\n",
    "        \n",
    "    elif choice == '3':\n",
    "        print(\"Thank You!\")\n",
    "        break\n",
    "        \n",
    "    else:\n",
    "        print(\"Invalid choice. Please choose 1, 2, or 3.\\n\")\n"
   ]
  },
  {
   "cell_type": "code",
   "execution_count": null,
   "id": "ba17ad0f",
   "metadata": {},
   "outputs": [],
   "source": []
  },
  {
   "cell_type": "markdown",
   "id": "4acc74ed",
   "metadata": {},
   "source": [
    "# Task 9 : Random Password Generator\n",
    "# Create a program that generates a random password of a user-defined length."
   ]
  },
  {
   "cell_type": "code",
   "execution_count": 2,
   "id": "e47ebb99",
   "metadata": {},
   "outputs": [
    {
     "name": "stdout",
     "output_type": "stream",
     "text": [
      "Enter the desired password length (type 'S' to stop): 10\n",
      "Generated Password: bP3S:0iioX\n",
      "Enter the desired password length (type 'S' to stop): 1e-3\n",
      "Error: Please enter a valid positive integer for password length or type 'S' to stop.\n",
      "Enter the desired password length (type 'S' to stop): 7\n",
      "Generated Password: Zdr8OHt\n",
      "Enter the desired password length (type 'S' to stop): S\n",
      "Thank you.\n"
     ]
    }
   ],
   "source": [
    "import random\n",
    "import string\n",
    "\n",
    "def generate_password(length):\n",
    "    characters = string.ascii_letters + string.digits + string.punctuation\n",
    "    password = ''.join(random.choice(characters) for _ in range(length))\n",
    "    return password\n",
    "\n",
    "while True:\n",
    "    password_length_str = input(\"Enter the desired password length (type 'S' to stop): \").strip().upper()\n",
    "    \n",
    "    if password_length_str == 'S':\n",
    "        print(\"Thank you.\")\n",
    "        break\n",
    "\n",
    "    try:\n",
    "        password_length = int(password_length_str)\n",
    "        \n",
    "        if password_length <= 0:\n",
    "            raise ValueError\n",
    "\n",
    "        password = generate_password(password_length)\n",
    "        print(\"Generated Password:\", password)\n",
    "    except ValueError:\n",
    "        print(\"Error: Please enter a valid positive integer for password length or type 'S' to stop.\")\n"
   ]
  },
  {
   "cell_type": "code",
   "execution_count": null,
   "id": "c12d0de8",
   "metadata": {},
   "outputs": [],
   "source": []
  },
  {
   "cell_type": "markdown",
   "id": "b19b6d1c",
   "metadata": {},
   "source": [
    "# Task 3 : Rock, paper, scissors game\n",
    "# Create a program that allows the user to play the classic game of rock, paper, scissors against the computer."
   ]
  },
  {
   "cell_type": "code",
   "execution_count": 1,
   "id": "a1dfe6a3",
   "metadata": {},
   "outputs": [
    {
     "name": "stdout",
     "output_type": "stream",
     "text": [
      "Let's play Rock, Paper, Scissors!\n",
      "Enter your choice (rock, paper, scissors): rock\n",
      "Computer chooses Paper.\n",
      "Computer wins!\n",
      "Do you want to play again? (yes/no): yes\n",
      "Let's play Rock, Paper, Scissors!\n",
      "Enter your choice (rock, paper, scissors): scissors\n",
      "Computer chooses Paper.\n",
      "You win!\n",
      "Do you want to play again? (yes/no): yes\n",
      "Let's play Rock, Paper, Scissors!\n",
      "Enter your choice (rock, paper, scissors): paper\n",
      "Computer chooses Paper.\n",
      "It's a tie!\n",
      "Do you want to play again? (yes/no): yes\n",
      "Let's play Rock, Paper, Scissors!\n",
      "Enter your choice (rock, paper, scissors): paper\n",
      "Computer chooses Rock.\n",
      "You win!\n",
      "Do you want to play again? (yes/no): no\n",
      "Thanks for playing!\n"
     ]
    }
   ],
   "source": [
    "import random\n",
    "\n",
    "def get_computer_choice():\n",
    "    choices = ['rock', 'paper', 'scissors']\n",
    "    return random.choice(choices)\n",
    "\n",
    "def determine_winner(user_choice, computer_choice):\n",
    "    if user_choice == computer_choice:\n",
    "        return \"It's a tie!\"\n",
    "    elif user_choice == 'rock':\n",
    "        return \"You win!\" if computer_choice == 'scissors' else \"Computer wins!\"\n",
    "    elif user_choice == 'paper':\n",
    "        return \"You win!\" if computer_choice == 'rock' else \"Computer wins!\"\n",
    "    elif user_choice == 'scissors':\n",
    "        return \"You win!\" if computer_choice == 'paper' else \"Computer wins!\"\n",
    "\n",
    "while True:\n",
    "    print(\"Let's play Rock, Paper, Scissors!\")\n",
    "    user_choice = input(\"Enter your choice (rock, paper, scissors): \").lower()\n",
    "\n",
    "    if user_choice not in ['rock', 'paper', 'scissors']:\n",
    "        print(\"Invalid choice. Please enter 'rock', 'paper', or 'scissors'.\")\n",
    "        continue\n",
    "\n",
    "    computer_choice = get_computer_choice()\n",
    "    print(f\"Computer chooses {computer_choice.capitalize()}.\")\n",
    "\n",
    "    result = determine_winner(user_choice, computer_choice)\n",
    "    print(result)\n",
    "\n",
    "    play_again = input(\"Do you want to play again? (yes/no): \").lower()\n",
    "    if play_again == 'yes':\n",
    "        continue\n",
    "    elif play_again == 'no':\n",
    "        print(\"Thanks for playing!\")\n",
    "        break\n",
    "    else:\n",
    "        print(\"Invalid input. Please enter 'yes' to continue or 'no' to stop.\")\n"
   ]
  },
  {
   "cell_type": "code",
   "execution_count": null,
   "id": "3691cc1a",
   "metadata": {},
   "outputs": [],
   "source": []
  },
  {
   "cell_type": "markdown",
   "id": "5e307919",
   "metadata": {},
   "source": [
    "# I express my gratitude to Sandip Gavit and the awesome Technohacks Edutech crew for letting me join as a Python Developer Intern."
   ]
  },
  {
   "cell_type": "code",
   "execution_count": null,
   "id": "750b3151",
   "metadata": {},
   "outputs": [],
   "source": []
  }
 ],
 "metadata": {
  "kernelspec": {
   "display_name": "Python 3 (ipykernel)",
   "language": "python",
   "name": "python3"
  },
  "language_info": {
   "codemirror_mode": {
    "name": "ipython",
    "version": 3
   },
   "file_extension": ".py",
   "mimetype": "text/x-python",
   "name": "python",
   "nbconvert_exporter": "python",
   "pygments_lexer": "ipython3",
   "version": "3.9.13"
  }
 },
 "nbformat": 4,
 "nbformat_minor": 5
}
